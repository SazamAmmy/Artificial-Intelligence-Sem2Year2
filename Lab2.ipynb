{
 "cells": [
  {
   "cell_type": "code",
   "execution_count": 59,
   "metadata": {},
   "outputs": [],
   "source": [
    "class VacuumCleanerEnvironment:\n",
    "    def __init__(instance):\n",
    "        # 0 represents clean, 1 represents dirty\n",
    "        instance.world = [1, 1, 1, 0, 0, 0, 0, 0, 0]  # Initial world state\n",
    "        #Assuming that we have a world of 9 locations. There is dirt in the location 1, 2 and 3 and our cleaner is initially at location 1.\n",
    "        instance.vacuum_location = 0  # Starting at location 1 (index 0)\n",
    "\n",
    "    def display_world(instance):\n",
    "        return instance.world, instance.vacuum_location\n",
    "    \n",
    "    def action(instance, current_state):\n",
    "        if instance.world[instance.vacuum_location] == 1:\n",
    "            return 'clean'\n",
    "        elif instance.vacuum_location == 0:\n",
    "            return 'move right'\n",
    "        elif instance.vacuum_location == len(instance.world) -1:\n",
    "            return 'move left'\n",
    "        else:\n",
    "            return 'move right'\n",
    "        #Simply moving vaccum to right.\n",
    "\n",
    "    def result(instance, action):\n",
    "        if action == 'clean':\n",
    "            instance.world[instance.vacuum_location] = 0\n",
    "        elif action == 'move right' and instance.vacuum_location < len(instance.world) - 1:\n",
    "            instance.vacuum_location += 1\n",
    "        elif action == 'move left' and instance.vacuum_location > 0:\n",
    "            instance.vacuum_location -= 1\n",
    "\n",
    "    def a_goal_state(instance):\n",
    "        return all(location == 0 for location in instance.world)\n",
    "    \n",
    "    def run(instance):\n",
    "        steps = 0\n",
    "        while not instance.a_goal_state():\n",
    "            print([instance.world, instance.vacuum_location])\n",
    "            current_state = instance.world[instance.vacuum_location]\n",
    "            action = instance.action(current_state)\n",
    "            instance.result(action)\n",
    "            steps += 1\n",
    "        return steps, instance.display_world()\n",
    "\n"
   ]
  },
  {
   "cell_type": "code",
   "execution_count": 60,
   "metadata": {},
   "outputs": [
    {
     "name": "stdout",
     "output_type": "stream",
     "text": [
      "[[1, 1, 1, 0, 0, 0, 0, 0, 0], 0]\n",
      "[[0, 1, 1, 0, 0, 0, 0, 0, 0], 0]\n",
      "[[0, 1, 1, 0, 0, 0, 0, 0, 0], 1]\n",
      "[[0, 0, 1, 0, 0, 0, 0, 0, 0], 1]\n",
      "[[0, 0, 1, 0, 0, 0, 0, 0, 0], 2]\n",
      "Total Steps: 5\n",
      "\n",
      "Final State of the Environment:\n",
      "[0, 0, 0, 0, 0, 0, 0, 0, 0]\n",
      "Vacuum Cleaner Location: 2\n"
     ]
    }
   ],
   "source": [
    "#Creating Environement for our Vacuum.\n",
    "\n",
    "MyVacuum = VacuumCleanerEnvironment()\n",
    "# Total steps taken\n",
    "total_steps, final_state = MyVacuum.run()\n",
    "\n",
    "# Extract final state information\n",
    "cleaned_locations, final_vacuum_location = final_state\n",
    "\n",
    "# Print the results in an organized format\n",
    "\n",
    "print(\"Total Steps:\", total_steps)\n",
    "print(\"\\nFinal State of the Environment:\")\n",
    "print(cleaned_locations)\n",
    "print(\"Vacuum Cleaner Location:\", final_vacuum_location)\n"
   ]
  }
 ],
 "metadata": {
  "kernelspec": {
   "display_name": "Python 3",
   "language": "python",
   "name": "python3"
  },
  "language_info": {
   "codemirror_mode": {
    "name": "ipython",
    "version": 3
   },
   "file_extension": ".py",
   "mimetype": "text/x-python",
   "name": "python",
   "nbconvert_exporter": "python",
   "pygments_lexer": "ipython3",
   "version": "3.10.8"
  }
 },
 "nbformat": 4,
 "nbformat_minor": 2
}
